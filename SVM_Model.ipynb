{
  "nbformat": 4,
  "nbformat_minor": 0,
  "metadata": {
    "colab": {
      "provenance": []
    },
    "kernelspec": {
      "name": "python3",
      "display_name": "Python 3"
    },
    "language_info": {
      "name": "python"
    }
  },
  "cells": [
    {
      "cell_type": "code",
      "execution_count": null,
      "metadata": {
        "id": "itLNxcs0DCaS"
      },
      "outputs": [],
      "source": [
        "import numpy as np\n",
        "\n",
        "class SVM_classifier():\n",
        "  #initiate hyperparameters\n",
        "  def __init__(self,learning_rate,no_of_iterations,lambdap):\n",
        "    self.learning_rate=learning_rate\n",
        "    self.no_of_iterations=no_of_iterations\n",
        "    self.lambdap=lambdap\n",
        "\n",
        "\n",
        "  def fit(self,X,Y):\n",
        "    #no of datapoints and features\n",
        "    self.m,self.n =X.shape\n",
        "\n",
        "    #weight and bias\n",
        "    self.w = np.zeros(self.n)\n",
        "    self.b = 0\n",
        "\n",
        "    #X and Y\n",
        "    self.X = X\n",
        "    self.Y = Y\n",
        "\n",
        "    for i in range(self.no_of_iterations):\n",
        "      self.update_weights()\n",
        "\n",
        "\n",
        "  def update_weights(self):\n",
        "    Y_label = np.where(self.Y <= 0,-1,1) #Label encoding - changing less then or equal to zeroes to \"-1\"\n",
        "\n",
        "    for index,x_i in enumerate(self.X): #index  --> index,x_i  --> value @ index\n",
        "      condition = Y_label[index]*(np.dot(x_i,self.w) - self.b) >=1 \n",
        "\n",
        "      if(condition == True):\n",
        "          dw = 2*self.lambdap*self.w\n",
        "          db = 0\n",
        "      else:\n",
        "        dw = 2*self.lambdap*self.w-np.dot(x_i,Y_label[index])\n",
        "        db = Y_label[index]\n",
        "    \n",
        "    self.w = self.w - self.learning_rate*dw\n",
        "    self.b = self.b - self.learning_rate*db\n",
        "\n",
        "\n",
        "  def predict(self,X):\n",
        "    output = np.dot(X,self.w) - self.b\n",
        "\n",
        "    predicted_label = np.sign(output)\n",
        "\n",
        "    y_hat = np.where(predicted_label <=-1,0,1) #revert the change\n",
        "\n",
        "    return y_hat"
      ]
    }
  ]
}