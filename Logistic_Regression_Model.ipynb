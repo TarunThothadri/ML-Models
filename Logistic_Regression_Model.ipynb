{
  "nbformat": 4,
  "nbformat_minor": 0,
  "metadata": {
    "colab": {
      "provenance": []
    },
    "kernelspec": {
      "name": "python3",
      "display_name": "Python 3"
    },
    "language_info": {
      "name": "python"
    }
  },
  "cells": [
    {
      "cell_type": "code",
      "execution_count": null,
      "metadata": {
        "id": "T151LG8Ewm0G"
      },
      "outputs": [],
      "source": [
        "import numpy as np\n",
        "\n",
        "class Logistic_Regression():\n",
        "  def __init__(self,learning_rate,no_of_iterations):\n",
        "    #initiating aplha and no of iterations\n",
        "    self.learning_rate = learning_rate\n",
        "    self.no_of_iterations = no_of_iterations\n",
        "\n",
        "\n",
        "  def fit(self,X,Y):\n",
        "    #m ----> rows(data points)\n",
        "    #n ----> columns(features)\n",
        "    self.m,self.n = X.shape\n",
        "\n",
        "    #initaiting weight and bias\n",
        "    self.w = np.zeros(self.n)\n",
        "    self.b = 0\n",
        "\n",
        "    self.X = X\n",
        "    self.Y = Y\n",
        "\n",
        "    #implement gradient descent for optimization\n",
        "    for i in range(self.no_of_iterations):\n",
        "      self.update_weights()\n",
        "\n",
        "  def update_weights(self):\n",
        "    #Sigmoid function\n",
        "    Y_hat = 1/(np.exp(-(self.X.dot(self.w)+self.b)))\n",
        "\n",
        "    #derivatives\n",
        "    dw = (1/self.m)*np.dot(self.X.T,(Y_hat - self.Y))\n",
        "    db = (1/self.m)*np.sum(Y_hat - self.Y)\n",
        "\n",
        "    #updating w and b\n",
        "    self.w = self.w -self.learning_rate*dw\n",
        "    self.b = self.b -self.learning_rate*db\n",
        "\n",
        "  def predict(self,X):\n",
        "    Y_pred = 1/(np.exp(-(X.dot(self.w)+self.b)))\n",
        "    Y_pred = np.where(Y_pred > 0.5,1,0)\n",
        "    return Y_pred"
      ]
    }
  ]
}