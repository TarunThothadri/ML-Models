{
  "nbformat": 4,
  "nbformat_minor": 0,
  "metadata": {
    "colab": {
      "provenance": []
    },
    "kernelspec": {
      "name": "python3",
      "display_name": "Python 3"
    },
    "language_info": {
      "name": "python"
    }
  },
  "cells": [
    {
      "cell_type": "markdown",
      "source": [
        "Model - Lasso Regression"
      ],
      "metadata": {
        "id": "lRz0xX3qSttp"
      }
    },
    {
      "cell_type": "code",
      "execution_count": 1,
      "metadata": {
        "id": "iQGTBkptSaNd"
      },
      "outputs": [],
      "source": [
        "import numpy as np"
      ]
    },
    {
      "cell_type": "code",
      "source": [
        "class Lasso_Regression():\n",
        "  #initiate hyperparameters\n",
        "  def __init__(self,learning_rate,no_of_iterations,lambdap):\n",
        "    self.learning_rate=learning_rate\n",
        "    self.no_of_iterations=no_of_iterations\n",
        "    self.lambdap=lambdap\n",
        "\n",
        "\n",
        "  def fit(self,X,Y):\n",
        "    #no of datapoints and features\n",
        "    self.m,self.n =X.shape\n",
        "\n",
        "    #weight and bias\n",
        "    self.w = np.zeros(self.n)\n",
        "    self.b = 0\n",
        "\n",
        "    #X and Y\n",
        "    self.X = X\n",
        "    self.Y = Y\n",
        "\n",
        "    for i in range(self.no_of_iterations):\n",
        "      self.update_weights()\n",
        "\n",
        "\n",
        "  def update_weights(self):\n",
        "    Y_prediction = self.predict(self.X)\n",
        "\n",
        "    #initiating dw\n",
        "    dw = np.zeros(self.n)\n",
        "\n",
        "    #gradients\n",
        "    for i in range(self.n):\n",
        "      if(self.w[i]>0):\n",
        "        dw[i] = -((2*(self.X[:,i].dot(self.Y-Y_prediction)+self.lambdap))/self.m)\n",
        "\n",
        "      else:\n",
        "        dw[i] = -((2*(self.X[:,i].dot(self.Y-Y_prediction)-self.lambdap))/self.m)\n",
        "\n",
        "    db = dw[i] = -(2*(np.sum(self.Y-Y_prediction))/self.m)\n",
        "    \n",
        "    self.w = self.w - self.learning_rate*dw\n",
        "    self.b = self.b - self.learning_rate*db\n",
        "\n",
        "\n",
        "  def predict(self,X):\n",
        "    output = np.dot(X,self.w) + self.b\n",
        "    return output"
      ],
      "metadata": {
        "id": "-dqSXrAZSxKK"
      },
      "execution_count": null,
      "outputs": []
    }
  ]
}