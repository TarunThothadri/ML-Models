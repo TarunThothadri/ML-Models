{
  "nbformat": 4,
  "nbformat_minor": 0,
  "metadata": {
    "colab": {
      "provenance": []
    },
    "kernelspec": {
      "name": "python3",
      "display_name": "Python 3"
    },
    "language_info": {
      "name": "python"
    }
  },
  "cells": [
    {
      "cell_type": "markdown",
      "source": [
        "importing the dependencies"
      ],
      "metadata": {
        "id": "myso8lwIvNUJ"
      }
    },
    {
      "cell_type": "code",
      "execution_count": 1,
      "metadata": {
        "id": "F3r-is3CvH3Z"
      },
      "outputs": [],
      "source": [
        "import numpy as np\n",
        "import pandas as pd\n",
        "from sklearn.model_selection import train_test_split\n",
        "from sklearn.model_selection import cross_val_score\n",
        "from sklearn.metrics import accuracy_score"
      ]
    },
    {
      "cell_type": "markdown",
      "source": [
        "importing models"
      ],
      "metadata": {
        "id": "anX4-uSrvlCS"
      }
    },
    {
      "cell_type": "code",
      "source": [
        "from sklearn.linear_model import LogisticRegression\n",
        "from sklearn.svm import SVC\n",
        "from sklearn.neighbors import KNeighborsClassifier\n",
        "from sklearn.ensemble import RandomForestClassifier"
      ],
      "metadata": {
        "id": "W9XJAx5-vkk0"
      },
      "execution_count": 3,
      "outputs": []
    },
    {
      "cell_type": "markdown",
      "source": [
        "Data pre-processing"
      ],
      "metadata": {
        "id": "tNoBk9xyxBAX"
      }
    },
    {
      "cell_type": "code",
      "source": [
        "heart_data = pd.read_csv('/content/heart_disease_data.csv')"
      ],
      "metadata": {
        "id": "ggNMmQEpvxJu"
      },
      "execution_count": 4,
      "outputs": []
    },
    {
      "cell_type": "code",
      "source": [
        "heart_data.isnull().sum()"
      ],
      "metadata": {
        "colab": {
          "base_uri": "https://localhost:8080/"
        },
        "id": "DWFrWx74wFGt",
        "outputId": "104df0a3-5ea7-42a6-867a-70ae971e43d7"
      },
      "execution_count": 5,
      "outputs": [
        {
          "output_type": "execute_result",
          "data": {
            "text/plain": [
              "age         0\n",
              "sex         0\n",
              "cp          0\n",
              "trestbps    0\n",
              "chol        0\n",
              "fbs         0\n",
              "restecg     0\n",
              "thalach     0\n",
              "exang       0\n",
              "oldpeak     0\n",
              "slope       0\n",
              "ca          0\n",
              "thal        0\n",
              "target      0\n",
              "dtype: int64"
            ]
          },
          "metadata": {},
          "execution_count": 5
        }
      ]
    },
    {
      "cell_type": "code",
      "source": [
        "heart_data['target'].value_counts()"
      ],
      "metadata": {
        "colab": {
          "base_uri": "https://localhost:8080/"
        },
        "id": "1QoQYm9PwIgz",
        "outputId": "64b70adc-3228-4e0f-f5ed-94cf8ccf74e8"
      },
      "execution_count": 6,
      "outputs": [
        {
          "output_type": "execute_result",
          "data": {
            "text/plain": [
              "1    165\n",
              "0    138\n",
              "Name: target, dtype: int64"
            ]
          },
          "metadata": {},
          "execution_count": 6
        }
      ]
    },
    {
      "cell_type": "markdown",
      "source": [
        "#Train Test Split "
      ],
      "metadata": {
        "id": "ZirDOrXIw-pb"
      }
    },
    {
      "cell_type": "code",
      "source": [
        "X = heart_data.drop(columns='target',axis=1)\n",
        "Y = heart_data['target']"
      ],
      "metadata": {
        "id": "67lVCgKWwREi"
      },
      "execution_count": 7,
      "outputs": []
    },
    {
      "cell_type": "code",
      "source": [
        "X_train,X_test,Y_train,Y_test = train_test_split(X,Y,stratify=Y,random_state=3,test_size=0.2)\n",
        "print(X.shape,X_train.shape,X_test.shape)"
      ],
      "metadata": {
        "colab": {
          "base_uri": "https://localhost:8080/"
        },
        "id": "GWyv5s67wdW1",
        "outputId": "9f3d5fa3-88f9-4ee3-e161-00b2c23679d6"
      },
      "execution_count": 18,
      "outputs": [
        {
          "output_type": "stream",
          "name": "stdout",
          "text": [
            "(303, 13) (242, 13) (61, 13)\n"
          ]
        }
      ]
    },
    {
      "cell_type": "markdown",
      "source": [
        "#Models performance"
      ],
      "metadata": {
        "id": "k4Us4MEGxDi1"
      }
    },
    {
      "cell_type": "code",
      "source": [
        "models = [LogisticRegression(max_iter=1000),SVC(kernel='linear'),KNeighborsClassifier(),RandomForestClassifier()]"
      ],
      "metadata": {
        "id": "RQUFyKdswtZY"
      },
      "execution_count": 19,
      "outputs": []
    },
    {
      "cell_type": "code",
      "source": [
        "def compare_train_test_models():\n",
        "  for m in models:\n",
        "    m.fit(X_train,Y_train)\n",
        "    test_prediction = m.predict(X_test)\n",
        "    acc_score = accuracy_score(test_prediction,Y_test)\n",
        "    print(\"Accuracy of test using model \",m,\" is : \",acc_score)"
      ],
      "metadata": {
        "id": "hYIKCto-xRtY"
      },
      "execution_count": 20,
      "outputs": []
    },
    {
      "cell_type": "code",
      "source": [
        "compare_train_test_models()"
      ],
      "metadata": {
        "colab": {
          "base_uri": "https://localhost:8080/"
        },
        "id": "uvpFHznvx0xZ",
        "outputId": "a242b0f0-e116-4e97-c7c0-28e63b793618"
      },
      "execution_count": 21,
      "outputs": [
        {
          "output_type": "stream",
          "name": "stdout",
          "text": [
            "Accuracy of test using model  LogisticRegression(max_iter=1000)  is :  0.7704918032786885\n",
            "Accuracy of test using model  SVC(kernel='linear')  is :  0.7704918032786885\n",
            "Accuracy of test using model  KNeighborsClassifier()  is :  0.6557377049180327\n",
            "Accuracy of test using model  RandomForestClassifier()  is :  0.8032786885245902\n"
          ]
        }
      ]
    },
    {
      "cell_type": "markdown",
      "source": [
        "#Cross Validation"
      ],
      "metadata": {
        "id": "iqX0qubIy3D6"
      }
    },
    {
      "cell_type": "code",
      "source": [
        "cv_score = cross_val_score(LogisticRegression(max_iter=1000),X,Y,cv=5)\n",
        "cv_score_mean = round((sum(cv_score)/len(cv_score))*100,2)\n",
        "print(cv_score_mean)"
      ],
      "metadata": {
        "colab": {
          "base_uri": "https://localhost:8080/"
        },
        "id": "0MLsdxbxx8Jl",
        "outputId": "a61811f0-c79e-43a6-ee40-ccbbc5777ccc"
      },
      "execution_count": 23,
      "outputs": [
        {
          "output_type": "stream",
          "name": "stdout",
          "text": [
            "82.83\n"
          ]
        }
      ]
    },
    {
      "cell_type": "code",
      "source": [
        "cv_score = cross_val_score(SVC(kernel='linear'),X,Y,cv=5)\n",
        "cv_score_mean = round((sum(cv_score)/len(cv_score))*100,2)\n",
        "print(cv_score_mean)"
      ],
      "metadata": {
        "colab": {
          "base_uri": "https://localhost:8080/"
        },
        "id": "hk8ehTXQzNWf",
        "outputId": "36017ac8-a1cd-47d8-d576-ef1c43f3471a"
      },
      "execution_count": 24,
      "outputs": [
        {
          "output_type": "stream",
          "name": "stdout",
          "text": [
            "82.83\n"
          ]
        }
      ]
    },
    {
      "cell_type": "code",
      "source": [
        "cv_score = cross_val_score(KNeighborsClassifier(),X,Y,cv=5)\n",
        "cv_score_mean = round((sum(cv_score)/len(cv_score))*100,2)\n",
        "print(cv_score_mean)"
      ],
      "metadata": {
        "colab": {
          "base_uri": "https://localhost:8080/"
        },
        "id": "JUU0pLygzqqK",
        "outputId": "d808c917-24dc-4cee-a87c-9c380bd5622b"
      },
      "execution_count": 25,
      "outputs": [
        {
          "output_type": "stream",
          "name": "stdout",
          "text": [
            "64.39\n"
          ]
        }
      ]
    },
    {
      "cell_type": "code",
      "source": [
        "cv_score = cross_val_score(RandomForestClassifier(),X,Y,cv=5)\n",
        "cv_score_mean = round((sum(cv_score)/len(cv_score))*100,2)\n",
        "print(cv_score_mean)"
      ],
      "metadata": {
        "colab": {
          "base_uri": "https://localhost:8080/"
        },
        "id": "gktuIF56zwwX",
        "outputId": "a7432051-431f-43f3-9bad-39c650873979"
      },
      "execution_count": 26,
      "outputs": [
        {
          "output_type": "stream",
          "name": "stdout",
          "text": [
            "81.83\n"
          ]
        }
      ]
    },
    {
      "cell_type": "markdown",
      "source": [
        "#Defining a function for cross validation"
      ],
      "metadata": {
        "id": "78lrlRe2z3nY"
      }
    },
    {
      "cell_type": "code",
      "source": [
        "models = [LogisticRegression(max_iter=1000),SVC(kernel='linear'),KNeighborsClassifier(),RandomForestClassifier()]"
      ],
      "metadata": {
        "id": "B-mibKuGz0SS"
      },
      "execution_count": 27,
      "outputs": []
    },
    {
      "cell_type": "code",
      "source": [
        "def compare_cv():\n",
        "  for m in models:\n",
        "    cv_score = cross_val_score(m,X,Y,cv=5)\n",
        "    mean_acc = round(sum(cv_score)*100/len(cv_score),2)\n",
        "    print(\"CV Score for \",m,\" is \",mean_acc)"
      ],
      "metadata": {
        "id": "O-_hC0fl0Df8"
      },
      "execution_count": 28,
      "outputs": []
    },
    {
      "cell_type": "code",
      "source": [
        "compare_cv()"
      ],
      "metadata": {
        "colab": {
          "base_uri": "https://localhost:8080/"
        },
        "id": "o_dtxgh60fHs",
        "outputId": "fb302950-ad94-4447-8c6e-40e8543f8fcc"
      },
      "execution_count": 29,
      "outputs": [
        {
          "output_type": "stream",
          "name": "stdout",
          "text": [
            "CV Score for  LogisticRegression(max_iter=1000)  is  82.83\n",
            "CV Score for  SVC(kernel='linear')  is  82.83\n",
            "CV Score for  KNeighborsClassifier()  is  64.39\n",
            "CV Score for  RandomForestClassifier()  is  81.17\n"
          ]
        }
      ]
    },
    {
      "cell_type": "code",
      "source": [],
      "metadata": {
        "id": "YHbufSys0gjA"
      },
      "execution_count": null,
      "outputs": []
    }
  ]
}