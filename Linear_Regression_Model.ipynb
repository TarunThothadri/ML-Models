{
  "nbformat": 4,
  "nbformat_minor": 0,
  "metadata": {
    "colab": {
      "provenance": []
    },
    "kernelspec": {
      "name": "python3",
      "display_name": "Python 3"
    },
    "language_info": {
      "name": "python"
    }
  },
  "cells": [
    {
      "cell_type": "markdown",
      "source": [
        "Linear Regression \n",
        "\n",
        "y = mx + c\n",
        "\n",
        "m - weight(slope)\n",
        "\n",
        "c - bias(intrecept)\n",
        "\n",
        "Gradient Descent \n",
        "\n",
        "w = w-αDm\n",
        "\n",
        "b = b-αDc\n",
        "\n",
        "Loss Function/Cost Function : \n",
        "Summation of (y-yp)^2 by n"
      ],
      "metadata": {
        "id": "jy0ZrnUVr6ti"
      }
    },
    {
      "cell_type": "code",
      "execution_count": null,
      "metadata": {
        "id": "60ao3S3Xlodp"
      },
      "outputs": [],
      "source": [
        "import numpy as np\n",
        "\n",
        "class Linear_Regression():\n",
        "  def __init__(self,learning_rate,no_of_iterations):\n",
        "    self.learning_rate = learning_rate\n",
        "    self.no_of_iterations = no_of_iterations\n",
        "\n",
        "\n",
        "  def fit(self,X,Y):\n",
        "    #no of training examples and no of features\n",
        "    self.m,self.n = X.shape\n",
        "\n",
        "    #initiating w and b\n",
        "    self.w = np.zeros(self.n)\n",
        "    self.b = 0\n",
        "    self.X = X\n",
        "    self.Y = Y\n",
        "\n",
        "    #implementing gradient descent\n",
        "    for i in range(self.no_of_iterations):\n",
        "      self.update_weights()\n",
        "\n",
        "\n",
        "  def update_weights(self,):\n",
        "    Y_prediction = self.predict(self.X)\n",
        "\n",
        "    #gradient calculation\n",
        "    dw = -(2*(self.X.T).dot(self.Y - Y_prediction)) / self.m\n",
        "\n",
        "    db = -(2*np.sum(self.Y - Y_prediction)) / self.m\n",
        "\n",
        "    #updating the values\n",
        "    self.w = self.w - self.learning_rate*dw\n",
        "    self.b = self.b - self.learning_rate*db\n",
        "\n",
        "\n",
        "  def predict(self,X):\n",
        "    return X.dot(self.w) + self.b # y=wx+b"
      ]
    },
    {
      "cell_type": "code",
      "source": [],
      "metadata": {
        "id": "NTYKRWSjl2iC"
      },
      "execution_count": null,
      "outputs": []
    }
  ]
}